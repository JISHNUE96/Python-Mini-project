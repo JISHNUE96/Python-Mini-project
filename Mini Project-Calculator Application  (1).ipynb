{
 "cells": [
  {
   "cell_type": "code",
   "execution_count": 9,
   "id": "2fd9af10-afb0-43e1-9234-4ac5e74f5733",
   "metadata": {},
   "outputs": [],
   "source": [
    "# Calculator functions\n",
    "\n",
    "def addition(a, b):\n",
    "    return a + b"
   ]
  },
  {
   "cell_type": "code",
   "execution_count": 3,
   "id": "ff4c5b70-a61f-4075-b7c3-dcaf2634fa83",
   "metadata": {},
   "outputs": [],
   "source": [
    "def subtraction(a, b):\n",
    "    return a - b"
   ]
  },
  {
   "cell_type": "code",
   "execution_count": 5,
   "id": "c6adbf10-f60d-44d3-aadb-828729740786",
   "metadata": {},
   "outputs": [],
   "source": [
    "def multiplication(a, b):\n",
    "    return a * b"
   ]
  },
  {
   "cell_type": "code",
   "execution_count": 7,
   "id": "295457f0-ac51-474f-b3dc-361284872f55",
   "metadata": {},
   "outputs": [],
   "source": [
    "\n",
    "def division(a, b):\n",
    "    if b != 0:\n",
    "        return a / b\n",
    "    else:\n",
    "        return \"Error! Division by zero is not allowed.\""
   ]
  },
  {
   "cell_type": "code",
   "execution_count": 11,
   "id": "e9e4c80f-4961-494f-82ec-9742c1d35250",
   "metadata": {},
   "outputs": [],
   "source": [
    "# Function to get valid input from user\n",
    "\n",
    "def get_number(prompt):\n",
    "    while True:\n",
    "        try:\n",
    "            return float(input(prompt))  \n",
    "        except ValueError:\n",
    "            print(\"Invalid input. Please enter a valid number.\")"
   ]
  },
  {
   "cell_type": "code",
   "execution_count": 17,
   "id": "5b53cc89-50c4-4edf-a317-f88b25cc3c66",
   "metadata": {},
   "outputs": [
    {
     "name": "stdout",
     "output_type": "stream",
     "text": [
      "Welcome to the Python Calculator!\n",
      "\n",
      "Options:\n",
      "1. Addition\n",
      "2. Subtraction\n",
      "3. Multiplication\n",
      "4. Division\n",
      "5. Exit\n"
     ]
    },
    {
     "name": "stdin",
     "output_type": "stream",
     "text": [
      "Select an option (1/2/3/4/5):  1\n",
      "Enter first number:  80\n",
      "Enter second number:  100\n"
     ]
    },
    {
     "name": "stdout",
     "output_type": "stream",
     "text": [
      "The result of addition is: 180.0\n",
      "\n",
      "Options:\n",
      "1. Addition\n",
      "2. Subtraction\n",
      "3. Multiplication\n",
      "4. Division\n",
      "5. Exit\n"
     ]
    },
    {
     "name": "stdin",
     "output_type": "stream",
     "text": [
      "Select an option (1/2/3/4/5):  2\n",
      "Enter first number:  900\n",
      "Enter second number:  400\n"
     ]
    },
    {
     "name": "stdout",
     "output_type": "stream",
     "text": [
      "The result of subtraction is: 500.0\n",
      "\n",
      "Options:\n",
      "1. Addition\n",
      "2. Subtraction\n",
      "3. Multiplication\n",
      "4. Division\n",
      "5. Exit\n"
     ]
    },
    {
     "name": "stdin",
     "output_type": "stream",
     "text": [
      "Select an option (1/2/3/4/5):  3\n",
      "Enter first number:  9874\n",
      "Enter second number:  5\n"
     ]
    },
    {
     "name": "stdout",
     "output_type": "stream",
     "text": [
      "The result of multiplication is: 49370.0\n",
      "\n",
      "Options:\n",
      "1. Addition\n",
      "2. Subtraction\n",
      "3. Multiplication\n",
      "4. Division\n",
      "5. Exit\n"
     ]
    },
    {
     "name": "stdin",
     "output_type": "stream",
     "text": [
      "Select an option (1/2/3/4/5):  4\n",
      "Enter first number:  54987\n",
      "Enter second number:  10\n"
     ]
    },
    {
     "name": "stdout",
     "output_type": "stream",
     "text": [
      "The result of division is: 5498.7\n",
      "\n",
      "Options:\n",
      "1. Addition\n",
      "2. Subtraction\n",
      "3. Multiplication\n",
      "4. Division\n",
      "5. Exit\n"
     ]
    },
    {
     "name": "stdin",
     "output_type": "stream",
     "text": [
      "Select an option (1/2/3/4/5):  5\n"
     ]
    },
    {
     "name": "stdout",
     "output_type": "stream",
     "text": [
      "Exiting the calculator. Goodbye!\n"
     ]
    }
   ],
   "source": [
    "# Main function\n",
    "\n",
    "def calculator():\n",
    "    print(\"Welcome to the Python Calculator!\")\n",
    "    \n",
    "    while True:\n",
    "        print(\"\\nOptions:\")\n",
    "        print(\"1. Addition\")\n",
    "        print(\"2. Subtraction\")\n",
    "        print(\"3. Multiplication\")\n",
    "        print(\"4. Division\")\n",
    "        print(\"5. Exit\")\n",
    "        \n",
    "        choice = input(\"Select an option (1/2/3/4/5): \")\n",
    "\n",
    "        if choice == '5':\n",
    "            print(\"Exiting the calculator. Goodbye!\")\n",
    "            break\n",
    "        \n",
    "        if choice in ('1', '2', '3', '4'):\n",
    "            num1 = get_number(\"Enter first number: \")\n",
    "            num2 = get_number(\"Enter second number: \")\n",
    "\n",
    "            if choice == '1':\n",
    "                print(f\"The result of addition is: {addition(num1, num2)}\")\n",
    "            elif choice == '2':\n",
    "                print(f\"The result of subtraction is: {subtraction(num1, num2)}\")\n",
    "            elif choice == '3':\n",
    "                print(f\"The result of multiplication is: {multiplication(num1, num2)}\")\n",
    "            elif choice == '4':\n",
    "                print(f\"The result of division is: {division(num1, num2)}\")\n",
    "        else:\n",
    "            print(\"Invalid choice. Please select a valid option (1/2/3/4/5).\")\n",
    "\n",
    "if __name__ == \"__main__\":\n",
    "    calculator()"
   ]
  },
  {
   "cell_type": "code",
   "execution_count": null,
   "id": "19004988-cc1a-4334-b987-dff7c5cce681",
   "metadata": {},
   "outputs": [],
   "source": []
  }
 ],
 "metadata": {
  "kernelspec": {
   "display_name": "Python 3 (ipykernel)",
   "language": "python",
   "name": "python3"
  },
  "language_info": {
   "codemirror_mode": {
    "name": "ipython",
    "version": 3
   },
   "file_extension": ".py",
   "mimetype": "text/x-python",
   "name": "python",
   "nbconvert_exporter": "python",
   "pygments_lexer": "ipython3",
   "version": "3.12.4"
  }
 },
 "nbformat": 4,
 "nbformat_minor": 5
}
